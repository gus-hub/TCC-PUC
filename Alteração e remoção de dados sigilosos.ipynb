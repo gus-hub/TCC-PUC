{
 "cells": [
  {
   "cell_type": "markdown",
   "metadata": {},
   "source": [
    "# Importar bibliotecas"
   ]
  },
  {
   "cell_type": "code",
   "execution_count": null,
   "metadata": {},
   "outputs": [],
   "source": [
    "import pandas as pd\n",
    "import numpy as np\n",
    "\n",
    "np.set_printoptions(threshold=None, precision=2)\n",
    "pd.set_option('display.max_columns', 100)\n",
    "pd.set_option('display.max_rows', 100)\n",
    "pd.set_option('precision', 2)\n",
    "pd.set_option('float_format', '{:.2f}'.format)"
   ]
  },
  {
   "cell_type": "markdown",
   "metadata": {},
   "source": [
    "# Carregando arquivos lote e descartes"
   ]
  },
  {
   "cell_type": "markdown",
   "metadata": {},
   "source": [
    "## Lote"
   ]
  },
  {
   "cell_type": "code",
   "execution_count": null,
   "metadata": {
    "scrolled": true
   },
   "outputs": [],
   "source": [
    "df_lote = pd.read_csv('Lote.csv')\n",
    "print(f'Dimensões do Lote:\\n{df_lote.shape[0]} linhas')\n",
    "print(f'Campos do Lote:\\n{list(df_lote.columns)}\\n')\n",
    "df_lote.info()"
   ]
  },
  {
   "cell_type": "markdown",
   "metadata": {},
   "source": [
    "## Descartes"
   ]
  },
  {
   "cell_type": "code",
   "execution_count": null,
   "metadata": {},
   "outputs": [],
   "source": [
    "df_descartes = pd.read_csv('Descartes.csv', encoding='latin')\n",
    "print(f'Dimensões do Lote:\\n{df_descartes.shape[0]} linhas\\n')\n",
    "print(f'Campos do Lote:\\n{list(df_descartes.columns)}\\n')\n",
    "df_descartes.info()"
   ]
  },
  {
   "cell_type": "markdown",
   "metadata": {},
   "source": [
    "### Manipulação dos dados originais"
   ]
  },
  {
   "cell_type": "markdown",
   "metadata": {},
   "source": [
    "#### Criar colunas com o tipo de NI para os beneficiários e os interessados dos processos"
   ]
  },
  {
   "cell_type": "code",
   "execution_count": null,
   "metadata": {},
   "outputs": [],
   "source": [
    "#Tipos de NIs\n",
    "df_lote['Tipo_NI_Ben'] = df_lote['NI Beneficiário'].apply(lambda x: 'PJ' if len(x) == 18 else 'PF')\n",
    "df_lote['Tipo_NI_Int'] = df_lote['NI Interessado'].apply(lambda x: 'PJ' if len(x) == 18 else 'PF')\n",
    "\n",
    "#NIs iguais\n",
    "condicao = df_lote['NI Beneficiário'].values==df_lote['NI Interessado'].values\n",
    "df_lote['NIs_iguais'] = np.where(condicao, 'S', 'N')\n",
    "\n",
    "#Ano do protocolo\n",
    "df_lote['Processo'] = df_lote['Processo'].astype(str)\n",
    "df_lote['Ano'] = df_lote['Processo'].str.slice(14,-3).astype(int)\n",
    "\n",
    "#Tempo decorrido\n",
    "condicao = [\n",
    "    (df_lote['Ano'].values < 100) & (df_lote['Ano'].values > 0),\n",
    "    (df_lote['Ano'].values == 0),\n",
    "    (df_lote['Ano'].values > 100)\n",
    "    ]\n",
    "\n",
    "escolhas = [\n",
    "    2020 - (df_lote['Ano'].values + 1900),\n",
    "    2020 - (df_lote['Ano'].values + 2000),\n",
    "    2020 - df_lote['Ano'].values\n",
    "           ]\n",
    "\n",
    "df_lote['Tempo_decorrido'] = np.select(condicao, escolhas,'a')"
   ]
  },
  {
   "cell_type": "markdown",
   "metadata": {},
   "source": [
    "# Filtro para restituições cujo beneficiário seja PF"
   ]
  },
  {
   "cell_type": "code",
   "execution_count": null,
   "metadata": {},
   "outputs": [],
   "source": [
    "df_lote = df_lote.loc[df_lote['Tipo_NI_Ben']=='PF']"
   ]
  },
  {
   "cell_type": "markdown",
   "metadata": {},
   "source": [
    "# Dicionário para renomear processos e NIs"
   ]
  },
  {
   "cell_type": "markdown",
   "metadata": {},
   "source": [
    "## Remoção das pontuações dos campos \"Processo\" e \"Número do Processo\""
   ]
  },
  {
   "cell_type": "code",
   "execution_count": null,
   "metadata": {},
   "outputs": [],
   "source": [
    "df_lote['Processo'] = df_lote['Processo'].str.replace(r'[^\\w]', '', regex=True).astype(str)\n",
    "df_descartes['Número do Processo'] = df_descartes['Número do Processo'].str.replace(r'[^\\w]', '', regex=True).astype(str)"
   ]
  },
  {
   "cell_type": "markdown",
   "metadata": {},
   "source": [
    "## Criação de dicionário com todos os números de processos, NI e novos índices"
   ]
  },
  {
   "cell_type": "code",
   "execution_count": null,
   "metadata": {},
   "outputs": [],
   "source": [
    "#Criação dos dicionários\n",
    "lista_de_processos = np.append(df_lote['Processo'].unique(), df_descartes['Número do Processo'].unique())\n",
    "lista_de_processos = list(set(lista_de_processos))\n",
    "lista_indice = list(range(len(lista_de_processos)))\n",
    "\n",
    "dicionario_Processo = {proc1:proc2 for proc1, proc2 in zip(lista_de_processos, lista_indice)}\n",
    "\n",
    "lista_de_cpf = df_lote['NI Beneficiário'].unique()\n",
    "\n",
    "dicionario_NI = {ni:ni2 for ni, ni2 in zip(list(set(lista_de_cpf)),range(len(list(set(lista_de_cpf)))))}"
   ]
  },
  {
   "cell_type": "markdown",
   "metadata": {},
   "source": [
    "# Alterações para tornar sigilosos"
   ]
  },
  {
   "cell_type": "markdown",
   "metadata": {},
   "source": [
    "##  df_lote"
   ]
  },
  {
   "cell_type": "code",
   "execution_count": null,
   "metadata": {},
   "outputs": [],
   "source": [
    "#Alteração no dataframe df_lote\n",
    "df_lote['NI Beneficiário'] = df_lote['NI Beneficiário'].replace(dicionario_NI)\n",
    "df_lote['Processo'] = df_lote['Processo'].replace(dicionario_Processo)"
   ]
  },
  {
   "cell_type": "markdown",
   "metadata": {},
   "source": [
    "## df_descartes"
   ]
  },
  {
   "cell_type": "code",
   "execution_count": null,
   "metadata": {},
   "outputs": [],
   "source": [
    "df_descartes['Número do Processo'] = df_descartes['Número do Processo'].replace(dicionario_Processo)"
   ]
  },
  {
   "cell_type": "markdown",
   "metadata": {},
   "source": [
    "## Remoção das colunas \"Nome/Razão Social\", \"CPF do Usuário do Impedimento\" e \"CPF/CNPJ\""
   ]
  },
  {
   "cell_type": "code",
   "execution_count": null,
   "metadata": {},
   "outputs": [],
   "source": [
    "df_descartes = df_descartes.drop(columns=['Nome/Razão Social', 'CPF do Usuário do Impedimento','CPF/CNPJ'])"
   ]
  },
  {
   "cell_type": "markdown",
   "metadata": {},
   "source": [
    " ## Remoção da coluna \"NI Interessado\""
   ]
  },
  {
   "cell_type": "code",
   "execution_count": null,
   "metadata": {},
   "outputs": [],
   "source": [
    "df_lote = df_lote.drop(columns=['NI Interessado'])"
   ]
  },
  {
   "cell_type": "markdown",
   "metadata": {},
   "source": [
    "# Exportar df_lote e df_descartes"
   ]
  },
  {
   "cell_type": "code",
   "execution_count": null,
   "metadata": {},
   "outputs": [],
   "source": [
    "df_lote.to_csv('Lote monografia sigilo.csv', index=False)\n",
    "df_descartes.to_csv('Descartes monografia sigilo.csv', index=False)"
   ]
  },
  {
   "cell_type": "markdown",
   "metadata": {},
   "source": [
    "## Leitura/limpeza e exportação do arquivo de informação dos processos"
   ]
  },
  {
   "cell_type": "code",
   "execution_count": null,
   "metadata": {},
   "outputs": [],
   "source": [
    "#Carregar arquivo no formato excel.\n",
    "df_processos = pd.read_excel('Processos.xlsx')\n",
    "\n",
    "#Remover atributo que requer sigilo\n",
    "df_processos = df_processos.drop(columns='CNPJ/CPF')\n",
    "\n",
    "#Remover pontuações do atributo e substituir valores conforme dicionário criado\n",
    "df_processos['Nº Processo'] = df_processos['Nº Processo'].str.replace(r'[^\\w]', '', regex=True)\n",
    "df_processos['Nº Processo'] = df_processos['Nº Processo'].replace(dicionario_Processo)\n",
    "\n",
    "#Exportar dados para arquivo \".csv\"\n",
    "df_processos.to_csv('Processos_PF_monografia.csv', index=False)"
   ]
  },
  {
   "cell_type": "markdown",
   "metadata": {},
   "source": [
    "## Leitura/limpeza e exportação do arquivo de cadastros"
   ]
  },
  {
   "cell_type": "code",
   "execution_count": null,
   "metadata": {},
   "outputs": [],
   "source": [
    "#Carregar arquivo no formato excel.\n",
    "df_cadastros = pd.read_excel('Cadastros.xls')\n",
    "\n",
    "#Substituir valores conforme dicionário criado\n",
    "df_cadastros['CPF'] = df_cadastros['CPF'].replace(dicionario_NI)\n",
    "\n",
    "#Remover atributo que requer sigilo\n",
    "colunas_remover = ['Nome', 'Logradouro', 'Número', 'Complemento', 'Bairro/Distrito', 'Caixa Postal', 'CEP',\n",
    "                   'Correio Eletrônico', 'Telefone - Número', 'Fax - Número', 'Nome da Mãe', 'NIT', \n",
    "                   'Título de Eleitor', 'CPF do Representante']\n",
    "df_cadastros = df_cadastros.drop(columns=colunas_remover)\n",
    "\n",
    "#Exportar dados para arquivo \".csv\"\n",
    "df_cadastros.to_csv('Cadastro_PF_monografia.csv', index=False)"
   ]
  }
 ],
 "metadata": {
  "hide_input": false,
  "kernelspec": {
   "display_name": "Python 3",
   "language": "python",
   "name": "python3"
  },
  "language_info": {
   "codemirror_mode": {
    "name": "ipython",
    "version": 3
   },
   "file_extension": ".py",
   "mimetype": "text/x-python",
   "name": "python",
   "nbconvert_exporter": "python",
   "pygments_lexer": "ipython3",
   "version": "3.7.3"
  },
  "toc": {
   "base_numbering": 1,
   "nav_menu": {},
   "number_sections": true,
   "sideBar": false,
   "skip_h1_title": false,
   "title_cell": "Table of Contents",
   "title_sidebar": "Contents",
   "toc_cell": false,
   "toc_position": {
    "height": "47.429px",
    "left": "480px",
    "top": "1261.66px",
    "width": "158.977px"
   },
   "toc_section_display": false,
   "toc_window_display": false
  },
  "varInspector": {
   "cols": {
    "lenName": 16,
    "lenType": 16,
    "lenVar": 40
   },
   "kernels_config": {
    "python": {
     "delete_cmd_postfix": "",
     "delete_cmd_prefix": "del ",
     "library": "var_list.py",
     "varRefreshCmd": "print(var_dic_list())"
    },
    "r": {
     "delete_cmd_postfix": ") ",
     "delete_cmd_prefix": "rm(",
     "library": "var_list.r",
     "varRefreshCmd": "cat(var_dic_list()) "
    }
   },
   "types_to_exclude": [
    "module",
    "function",
    "builtin_function_or_method",
    "instance",
    "_Feature"
   ],
   "window_display": false
  }
 },
 "nbformat": 4,
 "nbformat_minor": 4
}
